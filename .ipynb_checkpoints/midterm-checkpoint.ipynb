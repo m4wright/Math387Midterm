{
 "cells": [
  {
   "cell_type": "markdown",
   "metadata": {},
   "source": [
    "# MIDTERM  - MATH 387\n",
    "## Mathew Wright\n",
    "** 260681105 **"
   ]
  },
  {
   "cell_type": "markdown",
   "metadata": {},
   "source": [
    "## Part I. Theory"
   ]
  },
  {
   "cell_type": "markdown",
   "metadata": {},
   "source": [
    "#### a)"
   ]
  },
  {
   "cell_type": "markdown",
   "metadata": {},
   "source": [
    "Consider the Taylor expansion of $f$ around $h$, evaluated at $0$. Since $f \\in C^3$, $\\exists \\; \\zeta_1 \\in (-h, h)$ such that  \n",
    "\n",
    "$$ f(h) = f(0) + hf'(0) + \\frac{h^2}{2}f''(0) + \\frac{h^3}{6}f'''(\\zeta_1) $$\n",
    "\n",
    "Now, the Taylor expansion of $f$ around $-h$ evaluated at $0$ gives  \n",
    "\n",
    "$$ f(-h) = f(0) - hf'(0) + \\frac{h^2}{2}f''(0) - \\frac{h^3}{6}f'''(\\zeta_2) $$  \n",
    "\n",
    "Subtracting these two equations gives  \n",
    "\n",
    "$$ f(h) - f(-h) = 2hf'(0) + \\frac{h^3}{6}(f'''(\\zeta_1) + f'''(\\zeta_2)) $$  \n",
    "\n",
    "Dividing by $2h$ and rearanging, and we get  \n",
    "\n",
    "$$ \\frac{f(h) - f(-h)}{2h} - f'(0) = \\frac{h^2}{6}\\frac{f'''(\\zeta_1) + f'''(\\zeta_2)}{2} $$  \n",
    "\n",
    "Since $f \\in C^3$, $f'''$ is continuous. So, by the Intermediate Value Theorem, $ \\exists \\; \\zeta \\in [\\zeta_1, \\zeta_2]$ or $(\\zeta_2, \\zeta_1)$ if $\\zeta_2 < \\zeta_1$, such that  \n",
    "\n",
    "$$ f'''(\\zeta) = \\frac{f'''(\\zeta_1) + f'''(\\zeta_2)}{2}$$  \n",
    "\n",
    "Since $\\zeta_1, \\zeta_2 \\in (-h, h)$, we have that $\\zeta \\in (-h, h)$.  \n",
    "\n",
    "\n",
    "Now, putting everything together, we get  \n",
    "$$\n",
    "\\begin{aligned}\n",
    "& \\tilde{D}_h - f'(0) = \\frac{f(h) + \\delta f(h) - f(-h) - \\delta f(-h)}{2h} - f'(0) \\\\\n",
    "& = \\frac{f(h) - f(-h)}{2h} - f'(0) + \\frac{\\delta f(h) - \\delta f(-h)}{2h} \\\\\n",
    "& = \\frac{h^2}{6}f'''(\\zeta) + \\frac{\\delta f(h) - \\delta f(-h)}{2h}\n",
    "\\end{aligned}  \n",
    "$$\n",
    "\n",
    "Which is as desired."
   ]
  },
  {
   "cell_type": "markdown",
   "metadata": {},
   "source": [
    "b)"
   ]
  },
  {
   "cell_type": "markdown",
   "metadata": {},
   "source": [
    "$$\n",
    "\\begin{aligned}\n",
    "|\\tilde{D}_h - f'(0)| \n",
    "& = \\left|\\frac{h^2}{6}f'''(\\zeta) + \\frac{\\delta f(h) - \\delta f(-h)}{2h} \\right| \\\\\n",
    "& \\leq \\frac{h^2}{6}|f'''(\\zeta)| + \\frac{|\\delta f(h) - \\delta f(-h)|}{2h} \\\\\n",
    "& \\leq \\frac{h^2}{6}M + \\frac{|\\delta f(h)| + |\\delta f(-h)|}{2h} \\\\\n",
    "& \\leq \\frac{h^2}{6}M + \\frac{2\\epsilon}{2h} \\\\\n",
    "& = \\frac{h^2}{6}M + \\frac{\\epsilon}{h}\n",
    "\\end{aligned}\n",
    "$$"
   ]
  },
  {
   "cell_type": "code",
   "execution_count": 4,
   "metadata": {},
   "outputs": [],
   "source": [
    "import numpy as np\n",
    "import matplotlib.pyplot as plt"
   ]
  },
  {
   "cell_type": "code",
   "execution_count": 63,
   "metadata": {},
   "outputs": [
    {
     "data": {
      "image/png": "[encoded data removed]",
      "text/plain": [
       "<matplotlib.figure.Figure at 0x7f72c0a9ec88>"
      ]
     },
     "metadata": {},
     "output_type": "display_data"
    }
   ],
   "source": [
    "epsilon = 1e-6\n",
    "M = 5\n",
    "B = lambda h: epsilon/h + M*h**2 / 6\n",
    "h = np.linspace(0.0005, 0.07, 10000)\n",
    "\n",
    "plt.plot(h, B(h))\n",
    "plt.xlabel(\"h\")\n",
    "plt.ylabel(\"B(h)\")\n",
    "plt.show()"
   ]
  },
  {
   "cell_type": "markdown",
   "metadata": {},
   "source": [
    "$B$ is minimized when $B'(h) = 0$.  \n",
    "$$\n",
    "\\begin{aligned}\n",
    "0 = B'(h) &= \\frac{2hM}{6} - \\frac{\\epsilon}{h^2} = \\frac{hM}{3} - \\frac{\\epsilon}{h^2} \\\\\n",
    "& \\implies \\frac{h^3M}{3} = \\epsilon \\\\\n",
    "& \\implies h^3 = \\frac{3\\epsilon}{M} \\\\\n",
    "& \\implies h = \\left(\\frac{3\\epsilon}{M}\\right)^{1/3} \\\\\n",
    "& \\implies h = O(\\epsilon^{1/3})\n",
    "\\end{aligned}\n",
    "$$\n",
    "\n",
    "This corresponds to what we see in the graph, since we get that the above $B(h)$ is minimized at  \n",
    "\n",
    "$$ h = \\left(\\frac{3\\epsilon}{M}\\right)^{1/3} = \\left(\\frac{3*10^{-6}}{5}\\right)^{1/3} \\approx 0.008434$$  \n",
    "\n",
    "\n",
    "It's not a good idea to choose $h$ too small, since, as we can see in the graph, $B(h)$ blows up as $h \\downarrow 0$  \n",
    "We can also see this analytically, since \n",
    "$$ \\lim_{h \\downarrow 0}B(h) = \\lim_{h \\downarrow 0}\\frac{h^2}{6}M + \\frac{\\epsilon}{h} = 0 + \\infty = +\\infty $$"
   ]
  },
  {
   "cell_type": "markdown",
   "metadata": {},
   "source": [
    "## Part II. Lab"
   ]
  },
  {
   "cell_type": "markdown",
   "metadata": {},
   "source": [
    "a)"
   ]
  },
  {
   "cell_type": "code",
   "execution_count": null,
   "metadata": {},
   "outputs": [],
   "source": []
  }
 ],
 "metadata": {
  "kernelspec": {
   "display_name": "Python 3",
   "language": "python",
   "name": "python3"
  },
  "language_info": {
   "codemirror_mode": {
    "name": "ipython",
    "version": 3
   },
   "file_extension": ".py",
   "mimetype": "text/x-python",
   "name": "python",
   "nbconvert_exporter": "python",
   "pygments_lexer": "ipython3",
   "version": "3.5.2"
  }
 },
 "nbformat": 4,
 "nbformat_minor": 2
}
